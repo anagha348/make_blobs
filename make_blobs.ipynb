{
  "nbformat": 4,
  "nbformat_minor": 0,
  "metadata": {
    "colab": {
      "name": "make_blobs.ipynb",
      "provenance": []
    },
    "kernelspec": {
      "name": "python3",
      "display_name": "Python 3"
    },
    "language_info": {
      "name": "python"
    }
  },
  "cells": [
    {
      "cell_type": "code",
      "execution_count": null,
      "metadata": {
        "colab": {
          "base_uri": "https://localhost:8080/"
        },
        "id": "po6PXcupptpZ",
        "outputId": "72dd7f7d-1df6-40f2-9cd9-cb8b1b229cc3"
      },
      "outputs": [
        {
          "output_type": "execute_result",
          "data": {
            "text/plain": [
              "(array([[ 6.96402494e+00, -8.16026077e+00],\n",
              "        [ 2.39122380e+00,  1.92766136e+00],\n",
              "        [ 2.11231131e+00,  4.33510907e+00],\n",
              "        [ 2.32793480e+00,  2.80856957e+00],\n",
              "        [ 1.48031053e-01, -1.90604718e+00],\n",
              "        [ 1.83051981e+00, -5.56058757e-01],\n",
              "        [ 3.53059149e+00,  3.23184414e+00],\n",
              "        [ 2.69764281e+00, -1.50342655e+00],\n",
              "        [ 2.76068311e+00,  1.23654031e-01],\n",
              "        [ 6.64902039e+00, -3.94724708e+00],\n",
              "        [ 2.90673724e+00, -1.13607870e+00],\n",
              "        [ 1.52645925e+00, -2.35544782e+00],\n",
              "        [ 3.07239858e+00,  2.71518054e+00],\n",
              "        [ 6.98135015e+00, -7.56998207e+00],\n",
              "        [ 2.99982526e+00,  3.34655668e+00],\n",
              "        [ 4.01082185e+00,  3.97690309e+00],\n",
              "        [ 1.85818944e+00,  4.87549294e+00],\n",
              "        [ 1.60449576e+00, -1.32173246e+00],\n",
              "        [ 4.75244546e-01,  1.07265599e-01],\n",
              "        [ 3.23327653e+00,  3.48903454e+00],\n",
              "        [ 2.37229359e+00, -1.10831711e+00],\n",
              "        [ 3.46830607e+00,  3.76358800e+00],\n",
              "        [ 7.35318219e+00, -6.94636458e+00],\n",
              "        [ 1.97854594e+00,  2.72228762e+00],\n",
              "        [ 2.71697713e+00,  2.68380266e+00],\n",
              "        [ 2.96272512e+00,  3.43366956e+00],\n",
              "        [ 5.75132734e+00, -6.95695545e+00],\n",
              "        [ 1.77106359e+00,  4.83160637e+00],\n",
              "        [ 1.03610617e+00, -1.52186266e+00],\n",
              "        [ 2.23820146e+00,  1.71891210e-01],\n",
              "        [ 2.11863775e+00, -2.45270339e+00],\n",
              "        [ 1.05134998e+00,  1.46375307e-01],\n",
              "        [ 3.40483116e-01, -3.12097546e-01],\n",
              "        [ 4.03190405e-01, -1.06495757e-01],\n",
              "        [ 9.81792193e+00, -8.06970792e+00],\n",
              "        [ 6.15979319e+00, -7.19668432e+00],\n",
              "        [ 9.46438728e+00, -7.27804788e+00],\n",
              "        [ 6.71389357e-01, -1.53288836e+00],\n",
              "        [ 7.88796312e+00, -6.91025305e+00],\n",
              "        [ 6.32213390e+00, -5.79614184e+00],\n",
              "        [ 3.21314017e+00,  4.68968812e+00],\n",
              "        [ 6.54291666e+00, -6.44972497e+00],\n",
              "        [ 6.28758421e+00, -5.76642797e+00],\n",
              "        [ 2.87185347e+00,  3.85462964e+00],\n",
              "        [ 2.15104981e+00, -6.80928113e-01],\n",
              "        [ 3.34244739e+00,  4.30530855e+00],\n",
              "        [ 1.62692195e+00, -2.85100489e+00],\n",
              "        [ 2.02736427e+00,  3.56702080e+00],\n",
              "        [ 4.51532739e+00,  4.43549815e+00],\n",
              "        [ 6.38654129e+00, -7.53861107e+00],\n",
              "        [ 2.62685260e+00,  4.99879750e+00],\n",
              "        [ 7.79840586e+00, -6.04153618e+00],\n",
              "        [ 2.17065821e+00,  3.48198768e+00],\n",
              "        [ 2.10542906e+00, -7.59672863e-01],\n",
              "        [ 2.46467537e+00,  3.21897560e+00],\n",
              "        [ 3.52241191e+00,  2.67993190e+00],\n",
              "        [ 6.27646727e+00, -8.50983184e+00],\n",
              "        [ 3.10087604e+00,  1.14816315e+00],\n",
              "        [ 1.63301365e+00,  4.22388531e+00],\n",
              "        [ 3.47720164e+00,  4.15327682e+00],\n",
              "        [ 3.02013727e+00, -1.17034530e+00],\n",
              "        [ 6.80412125e+00, -6.55468339e+00],\n",
              "        [ 6.22544282e+00, -5.48709309e+00],\n",
              "        [ 7.94425398e+00, -5.25343431e+00],\n",
              "        [ 2.66948603e+00, -1.76043203e-02],\n",
              "        [ 2.73977813e+00,  2.78071449e+00],\n",
              "        [ 2.33056308e+00, -1.13096496e+00],\n",
              "        [ 2.50477470e+00, -1.62312248e+00],\n",
              "        [ 8.34373616e+00, -5.48864017e+00],\n",
              "        [ 8.72609256e+00, -7.07841810e+00],\n",
              "        [ 1.35023566e+00, -4.42700358e-01],\n",
              "        [ 7.17874525e+00, -6.04200485e+00],\n",
              "        [ 7.46020347e+00, -6.73928606e+00],\n",
              "        [ 6.11499094e-01,  4.91412546e+00],\n",
              "        [ 7.30595756e+00, -7.59410547e+00],\n",
              "        [ 2.26112019e+00, -1.47809704e+00],\n",
              "        [ 8.50923317e+00, -6.71410014e+00],\n",
              "        [ 7.30496895e+00, -5.75252218e+00],\n",
              "        [ 6.69433664e+00, -6.40616477e+00],\n",
              "        [ 2.18714665e+00, -1.46910506e+00],\n",
              "        [ 6.06497761e+00, -5.47250756e+00],\n",
              "        [ 6.65417401e+00, -5.77181669e+00],\n",
              "        [ 2.46165501e-01,  1.14907230e-01],\n",
              "        [ 2.55353146e+00,  3.31994205e+00],\n",
              "        [ 4.23361234e+00,  1.96206509e+00],\n",
              "        [ 5.57616244e+00, -6.73922497e+00],\n",
              "        [ 9.05305398e-01, -1.21129124e-01],\n",
              "        [ 5.54236597e+00, -8.88142220e+00],\n",
              "        [ 7.70610388e+00, -5.58065507e+00],\n",
              "        [ 8.32860383e-01,  1.18231824e+00],\n",
              "        [ 2.84987970e+00,  3.32283363e+00],\n",
              "        [ 2.86486573e+00,  3.73365117e+00],\n",
              "        [ 7.04797959e+00, -5.84098150e+00],\n",
              "        [ 2.84288526e+00,  4.13385791e+00],\n",
              "        [ 3.09376028e+00, -1.64513816e+00],\n",
              "        [ 7.14372125e+00, -6.35626420e+00],\n",
              "        [ 1.03504807e+00, -1.86835249e+00],\n",
              "        [ 2.73000490e+00,  3.29572557e+00],\n",
              "        [ 6.38127244e+00, -6.60228356e+00],\n",
              "        [ 2.35645354e+00, -6.71038129e-01],\n",
              "        [ 2.22397388e+00, -7.10813731e-01],\n",
              "        [ 7.30317863e+00, -7.72271096e+00],\n",
              "        [ 1.66281725e+00, -1.34109253e+00],\n",
              "        [ 1.59425328e+00,  3.98911587e+00],\n",
              "        [ 3.57040964e+00,  4.96031573e+00],\n",
              "        [ 8.74611450e+00, -6.18203935e+00],\n",
              "        [ 6.31029713e+00, -6.19196407e+00],\n",
              "        [ 6.07422216e+00, -7.53877676e+00],\n",
              "        [ 7.12691618e+00, -6.68746450e+00],\n",
              "        [ 2.86299198e+00,  3.93388456e+00],\n",
              "        [ 6.63900796e+00, -6.88315015e+00],\n",
              "        [ 6.23024284e-01, -9.18486110e-01],\n",
              "        [ 3.63328948e-01,  2.73311965e-01],\n",
              "        [ 4.39391404e+00,  4.08897481e+00],\n",
              "        [ 3.13133512e+00,  3.16664383e+00],\n",
              "        [ 6.22590200e+00, -6.55777659e+00],\n",
              "        [ 6.13119962e+00, -5.83916454e+00],\n",
              "        [ 4.24515001e+00,  5.32153409e+00],\n",
              "        [ 5.23421128e+00, -6.39285222e+00],\n",
              "        [ 2.78880865e+00,  4.08227236e+00],\n",
              "        [ 7.77894814e+00, -6.51877264e+00],\n",
              "        [ 6.13562656e+00, -5.24778072e+00],\n",
              "        [-1.74954058e-01, -2.97069278e-01],\n",
              "        [ 2.96970608e+00,  2.61203570e+00],\n",
              "        [ 3.12220573e+00, -2.06649197e+00],\n",
              "        [ 4.22616350e+00,  2.59571525e+00],\n",
              "        [ 6.27991333e+00, -6.02959900e+00],\n",
              "        [ 3.66401396e+00, -6.37343067e+00],\n",
              "        [ 1.60844158e+00, -9.78670411e-01],\n",
              "        [ 8.31786810e-01,  1.45109469e+00],\n",
              "        [ 2.28570746e+00, -8.67982598e-03],\n",
              "        [ 2.46578268e+00, -2.78135737e-01],\n",
              "        [ 4.28238758e+00,  5.16779055e+00],\n",
              "        [ 1.14710355e+00,  5.35817410e+00],\n",
              "        [ 7.95260263e+00, -6.73702378e+00],\n",
              "        [ 6.98269387e+00, -6.60848194e+00],\n",
              "        [ 2.95914974e+00,  3.75985228e+00],\n",
              "        [ 1.16053641e+00, -1.47653731e+00],\n",
              "        [ 2.50904067e+00, -2.06110432e+00],\n",
              "        [ 5.90194359e-01, -4.58566516e-01],\n",
              "        [ 4.17866694e+00,  1.58692586e+00],\n",
              "        [ 2.17945280e+00, -2.77330445e+00],\n",
              "        [ 6.07149140e+00, -6.98021631e+00],\n",
              "        [ 2.18614170e+00, -2.29430357e+00],\n",
              "        [ 5.15741420e+00,  4.33693226e+00],\n",
              "        [ 8.60241847e-01, -7.43729159e-01],\n",
              "        [ 3.79795552e+00,  4.92744180e+00],\n",
              "        [ 1.95236853e+00, -1.10367385e+00],\n",
              "        [ 1.60568510e+00, -7.49962928e-01],\n",
              "        [ 1.34530910e+00,  3.08631938e+00],\n",
              "        [ 2.14214850e+00, -1.34798698e+00],\n",
              "        [ 8.17641733e+00, -6.13040983e+00],\n",
              "        [ 8.77082888e-01, -1.92383586e+00],\n",
              "        [ 2.48204361e+00,  5.28788957e+00],\n",
              "        [ 2.09648313e+00, -1.32848208e+00],\n",
              "        [ 1.33007784e+00, -2.03905140e+00],\n",
              "        [ 3.20041425e+00, -2.22404855e+00],\n",
              "        [ 5.98413973e+00, -7.64901726e+00],\n",
              "        [ 2.76416500e+00,  2.26527640e+00],\n",
              "        [ 2.45695087e+00,  3.50329334e+00],\n",
              "        [ 2.40894442e+00,  4.83293970e+00],\n",
              "        [ 1.93581826e+00, -2.25139415e+00],\n",
              "        [ 6.07127347e+00, -7.39882125e+00],\n",
              "        [ 1.81961536e+00,  3.09964196e+00],\n",
              "        [ 5.99400467e-01,  7.48733347e-02],\n",
              "        [ 1.44546121e+00, -2.18636224e+00],\n",
              "        [ 7.53533334e+00, -6.61282988e+00],\n",
              "        [ 7.23626087e+00, -5.91906287e+00],\n",
              "        [ 1.43297652e+00, -1.30227428e+00],\n",
              "        [ 1.48403809e+00,  3.17717487e+00],\n",
              "        [ 3.60042562e+00,  2.66068699e+00],\n",
              "        [ 3.16160129e+00,  2.50362025e+00],\n",
              "        [ 3.42224556e+00,  3.02543002e+00],\n",
              "        [ 5.74076414e+00, -7.69384982e+00],\n",
              "        [ 3.89643817e+00,  3.89237211e+00],\n",
              "        [ 3.48361862e+00,  4.16068237e+00],\n",
              "        [ 1.33397263e+00,  2.12060374e+00],\n",
              "        [ 1.64385695e+00, -3.11033160e-01],\n",
              "        [ 6.03755582e+00, -6.36321894e+00],\n",
              "        [ 1.94260844e+00, -1.42408087e-01],\n",
              "        [ 1.11118234e+00, -1.25102320e+00],\n",
              "        [ 6.68603335e+00, -7.41145686e+00],\n",
              "        [ 6.40650710e+00, -5.46151954e+00],\n",
              "        [ 8.94010275e+00, -5.95297971e+00],\n",
              "        [ 1.22762820e+00,  5.07662707e+00],\n",
              "        [ 6.39244771e+00, -7.70423619e+00],\n",
              "        [ 6.74053235e+00, -5.38099957e+00],\n",
              "        [ 2.72765299e+00, -1.42669354e+00],\n",
              "        [ 7.66403918e+00, -6.84154305e+00],\n",
              "        [ 6.06083041e+00, -8.48403620e+00],\n",
              "        [ 4.07617017e-01, -1.73865060e+00],\n",
              "        [ 1.56570701e+00,  4.66946129e+00],\n",
              "        [ 1.46338737e+00, -1.38419001e+00],\n",
              "        [ 3.11800277e+00,  2.75810442e+00],\n",
              "        [ 2.44229030e+00,  4.29121116e+00],\n",
              "        [ 7.03066028e+00, -4.42898118e+00],\n",
              "        [ 1.36904763e+00,  8.66001682e-01],\n",
              "        [ 6.37606359e+00, -6.38542668e+00],\n",
              "        [ 2.24372395e+00,  4.22663792e+00],\n",
              "        [ 3.19162346e+00,  2.67026298e+00]]),\n",
              " array([2, 0, 0, 0, 1, 1, 0, 1, 1, 2, 1, 1, 0, 2, 0, 0, 0, 1, 1, 0, 1, 0,\n",
              "        2, 0, 0, 0, 2, 0, 1, 1, 1, 1, 1, 1, 2, 2, 2, 1, 2, 2, 0, 2, 2, 0,\n",
              "        1, 0, 1, 0, 0, 2, 0, 2, 0, 1, 0, 0, 2, 1, 0, 0, 1, 2, 2, 2, 1, 0,\n",
              "        1, 1, 2, 2, 1, 2, 2, 0, 2, 1, 2, 2, 2, 1, 2, 2, 1, 0, 0, 2, 1, 2,\n",
              "        2, 1, 0, 0, 2, 0, 1, 2, 1, 0, 2, 1, 1, 2, 1, 0, 0, 2, 2, 2, 2, 0,\n",
              "        2, 1, 1, 0, 0, 2, 2, 0, 2, 0, 2, 2, 1, 0, 1, 0, 2, 2, 1, 1, 1, 1,\n",
              "        0, 0, 2, 2, 0, 1, 1, 1, 0, 1, 2, 1, 0, 1, 0, 1, 1, 0, 1, 2, 1, 0,\n",
              "        1, 1, 1, 2, 0, 0, 0, 1, 2, 0, 1, 1, 2, 2, 1, 0, 0, 0, 0, 2, 0, 0,\n",
              "        0, 1, 2, 1, 1, 2, 2, 2, 0, 2, 2, 1, 2, 2, 1, 0, 1, 0, 0, 2, 1, 2,\n",
              "        0, 0]))"
            ]
          },
          "metadata": {},
          "execution_count": 22
        }
      ],
      "source": [
        "from sklearn.datasets import make_blobs\n",
        "data=make_blobs(n_samples=200,n_features=2,centers=3)\n",
        "data"
      ]
    },
    {
      "cell_type": "code",
      "source": [
        "import pandas as pd\n",
        "Df = pd.DataFrame(data[0] , columns = ['a','b'])\n",
        "Df"
      ],
      "metadata": {
        "colab": {
          "base_uri": "https://localhost:8080/",
          "height": 424
        },
        "id": "I42EuOe4soDO",
        "outputId": "703f9392-a989-4ca6-979f-66ce73d55bf5"
      },
      "execution_count": null,
      "outputs": [
        {
          "output_type": "execute_result",
          "data": {
            "text/plain": [
              "            a         b\n",
              "0    6.964025 -8.160261\n",
              "1    2.391224  1.927661\n",
              "2    2.112311  4.335109\n",
              "3    2.327935  2.808570\n",
              "4    0.148031 -1.906047\n",
              "..        ...       ...\n",
              "195  7.030660 -4.428981\n",
              "196  1.369048  0.866002\n",
              "197  6.376064 -6.385427\n",
              "198  2.243724  4.226638\n",
              "199  3.191623  2.670263\n",
              "\n",
              "[200 rows x 2 columns]"
            ],
            "text/html": [
              "\n",
              "  <div id=\"df-c107e160-c2c6-4e80-8fed-9432d1fb94f6\">\n",
              "    <div class=\"colab-df-container\">\n",
              "      <div>\n",
              "<style scoped>\n",
              "    .dataframe tbody tr th:only-of-type {\n",
              "        vertical-align: middle;\n",
              "    }\n",
              "\n",
              "    .dataframe tbody tr th {\n",
              "        vertical-align: top;\n",
              "    }\n",
              "\n",
              "    .dataframe thead th {\n",
              "        text-align: right;\n",
              "    }\n",
              "</style>\n",
              "<table border=\"1\" class=\"dataframe\">\n",
              "  <thead>\n",
              "    <tr style=\"text-align: right;\">\n",
              "      <th></th>\n",
              "      <th>a</th>\n",
              "      <th>b</th>\n",
              "    </tr>\n",
              "  </thead>\n",
              "  <tbody>\n",
              "    <tr>\n",
              "      <th>0</th>\n",
              "      <td>6.964025</td>\n",
              "      <td>-8.160261</td>\n",
              "    </tr>\n",
              "    <tr>\n",
              "      <th>1</th>\n",
              "      <td>2.391224</td>\n",
              "      <td>1.927661</td>\n",
              "    </tr>\n",
              "    <tr>\n",
              "      <th>2</th>\n",
              "      <td>2.112311</td>\n",
              "      <td>4.335109</td>\n",
              "    </tr>\n",
              "    <tr>\n",
              "      <th>3</th>\n",
              "      <td>2.327935</td>\n",
              "      <td>2.808570</td>\n",
              "    </tr>\n",
              "    <tr>\n",
              "      <th>4</th>\n",
              "      <td>0.148031</td>\n",
              "      <td>-1.906047</td>\n",
              "    </tr>\n",
              "    <tr>\n",
              "      <th>...</th>\n",
              "      <td>...</td>\n",
              "      <td>...</td>\n",
              "    </tr>\n",
              "    <tr>\n",
              "      <th>195</th>\n",
              "      <td>7.030660</td>\n",
              "      <td>-4.428981</td>\n",
              "    </tr>\n",
              "    <tr>\n",
              "      <th>196</th>\n",
              "      <td>1.369048</td>\n",
              "      <td>0.866002</td>\n",
              "    </tr>\n",
              "    <tr>\n",
              "      <th>197</th>\n",
              "      <td>6.376064</td>\n",
              "      <td>-6.385427</td>\n",
              "    </tr>\n",
              "    <tr>\n",
              "      <th>198</th>\n",
              "      <td>2.243724</td>\n",
              "      <td>4.226638</td>\n",
              "    </tr>\n",
              "    <tr>\n",
              "      <th>199</th>\n",
              "      <td>3.191623</td>\n",
              "      <td>2.670263</td>\n",
              "    </tr>\n",
              "  </tbody>\n",
              "</table>\n",
              "<p>200 rows × 2 columns</p>\n",
              "</div>\n",
              "      <button class=\"colab-df-convert\" onclick=\"convertToInteractive('df-c107e160-c2c6-4e80-8fed-9432d1fb94f6')\"\n",
              "              title=\"Convert this dataframe to an interactive table.\"\n",
              "              style=\"display:none;\">\n",
              "        \n",
              "  <svg xmlns=\"http://www.w3.org/2000/svg\" height=\"24px\"viewBox=\"0 0 24 24\"\n",
              "       width=\"24px\">\n",
              "    <path d=\"M0 0h24v24H0V0z\" fill=\"none\"/>\n",
              "    <path d=\"M18.56 5.44l.94 2.06.94-2.06 2.06-.94-2.06-.94-.94-2.06-.94 2.06-2.06.94zm-11 1L8.5 8.5l.94-2.06 2.06-.94-2.06-.94L8.5 2.5l-.94 2.06-2.06.94zm10 10l.94 2.06.94-2.06 2.06-.94-2.06-.94-.94-2.06-.94 2.06-2.06.94z\"/><path d=\"M17.41 7.96l-1.37-1.37c-.4-.4-.92-.59-1.43-.59-.52 0-1.04.2-1.43.59L10.3 9.45l-7.72 7.72c-.78.78-.78 2.05 0 2.83L4 21.41c.39.39.9.59 1.41.59.51 0 1.02-.2 1.41-.59l7.78-7.78 2.81-2.81c.8-.78.8-2.07 0-2.86zM5.41 20L4 18.59l7.72-7.72 1.47 1.35L5.41 20z\"/>\n",
              "  </svg>\n",
              "      </button>\n",
              "      \n",
              "  <style>\n",
              "    .colab-df-container {\n",
              "      display:flex;\n",
              "      flex-wrap:wrap;\n",
              "      gap: 12px;\n",
              "    }\n",
              "\n",
              "    .colab-df-convert {\n",
              "      background-color: #E8F0FE;\n",
              "      border: none;\n",
              "      border-radius: 50%;\n",
              "      cursor: pointer;\n",
              "      display: none;\n",
              "      fill: #1967D2;\n",
              "      height: 32px;\n",
              "      padding: 0 0 0 0;\n",
              "      width: 32px;\n",
              "    }\n",
              "\n",
              "    .colab-df-convert:hover {\n",
              "      background-color: #E2EBFA;\n",
              "      box-shadow: 0px 1px 2px rgba(60, 64, 67, 0.3), 0px 1px 3px 1px rgba(60, 64, 67, 0.15);\n",
              "      fill: #174EA6;\n",
              "    }\n",
              "\n",
              "    [theme=dark] .colab-df-convert {\n",
              "      background-color: #3B4455;\n",
              "      fill: #D2E3FC;\n",
              "    }\n",
              "\n",
              "    [theme=dark] .colab-df-convert:hover {\n",
              "      background-color: #434B5C;\n",
              "      box-shadow: 0px 1px 3px 1px rgba(0, 0, 0, 0.15);\n",
              "      filter: drop-shadow(0px 1px 2px rgba(0, 0, 0, 0.3));\n",
              "      fill: #FFFFFF;\n",
              "    }\n",
              "  </style>\n",
              "\n",
              "      <script>\n",
              "        const buttonEl =\n",
              "          document.querySelector('#df-c107e160-c2c6-4e80-8fed-9432d1fb94f6 button.colab-df-convert');\n",
              "        buttonEl.style.display =\n",
              "          google.colab.kernel.accessAllowed ? 'block' : 'none';\n",
              "\n",
              "        async function convertToInteractive(key) {\n",
              "          const element = document.querySelector('#df-c107e160-c2c6-4e80-8fed-9432d1fb94f6');\n",
              "          const dataTable =\n",
              "            await google.colab.kernel.invokeFunction('convertToInteractive',\n",
              "                                                     [key], {});\n",
              "          if (!dataTable) return;\n",
              "\n",
              "          const docLinkHtml = 'Like what you see? Visit the ' +\n",
              "            '<a target=\"_blank\" href=https://colab.research.google.com/notebooks/data_table.ipynb>data table notebook</a>'\n",
              "            + ' to learn more about interactive tables.';\n",
              "          element.innerHTML = '';\n",
              "          dataTable['output_type'] = 'display_data';\n",
              "          await google.colab.output.renderOutput(dataTable, element);\n",
              "          const docLink = document.createElement('div');\n",
              "          docLink.innerHTML = docLinkHtml;\n",
              "          element.appendChild(docLink);\n",
              "        }\n",
              "      </script>\n",
              "    </div>\n",
              "  </div>\n",
              "  "
            ]
          },
          "metadata": {},
          "execution_count": 23
        }
      ]
    },
    {
      "cell_type": "code",
      "source": [
        "from sklearn.cluster import KMeans\n",
        "kmeans = KMeans(n_clusters=3,max_iter=150, random_state=20).fit(Df)\n",
        "pl=kmeans.cluster_centers_\n",
        "pl"
      ],
      "metadata": {
        "id": "uP-hY2SjvyGL",
        "colab": {
          "base_uri": "https://localhost:8080/"
        },
        "outputId": "1ca6dcb3-cb20-4dac-a831-d05e1458d659"
      },
      "execution_count": null,
      "outputs": [
        {
          "output_type": "execute_result",
          "data": {
            "text/plain": [
              "array([[ 1.64604416, -1.00528367],\n",
              "       [ 6.89382075, -6.5727724 ],\n",
              "       [ 2.84676211,  3.64054749]])"
            ]
          },
          "metadata": {},
          "execution_count": 24
        }
      ]
    },
    {
      "cell_type": "code",
      "source": [
        "kmeans.labels_"
      ],
      "metadata": {
        "colab": {
          "base_uri": "https://localhost:8080/"
        },
        "id": "8SO0he4sCmLR",
        "outputId": "e06a9c5e-7c6e-4f14-9996-559acc75681e"
      },
      "execution_count": null,
      "outputs": [
        {
          "output_type": "execute_result",
          "data": {
            "text/plain": [
              "array([1, 2, 2, 2, 0, 0, 2, 0, 0, 1, 0, 0, 2, 1, 2, 2, 2, 0, 0, 2, 0, 2,\n",
              "       1, 2, 2, 2, 1, 2, 0, 0, 0, 0, 0, 0, 1, 1, 1, 0, 1, 1, 2, 1, 1, 2,\n",
              "       0, 2, 0, 2, 2, 1, 2, 1, 2, 0, 2, 2, 1, 2, 2, 2, 0, 1, 1, 1, 0, 2,\n",
              "       0, 0, 1, 1, 0, 1, 1, 2, 1, 0, 1, 1, 1, 0, 1, 1, 0, 2, 2, 1, 0, 1,\n",
              "       1, 0, 2, 2, 1, 2, 0, 1, 0, 2, 1, 0, 0, 1, 0, 2, 2, 1, 1, 1, 1, 2,\n",
              "       1, 0, 0, 2, 2, 1, 1, 2, 1, 2, 1, 1, 0, 2, 0, 2, 1, 1, 0, 0, 0, 0,\n",
              "       2, 2, 1, 1, 2, 0, 0, 0, 2, 0, 1, 0, 2, 0, 2, 0, 0, 2, 0, 1, 0, 2,\n",
              "       0, 0, 0, 1, 2, 2, 2, 0, 1, 2, 0, 0, 1, 1, 0, 2, 2, 2, 2, 1, 2, 2,\n",
              "       2, 0, 1, 0, 0, 1, 1, 1, 2, 1, 1, 0, 1, 1, 0, 2, 0, 2, 2, 1, 0, 1,\n",
              "       2, 2], dtype=int32)"
            ]
          },
          "metadata": {},
          "execution_count": 25
        }
      ]
    },
    {
      "cell_type": "code",
      "source": [
        "from sklearn.model_selection import train_test_split\n",
        "X_train,X_test,y_train,y_test=train_test_split(data[0],data[1],test_size=.25)\n",
        "y_pred=kmeans.predict(X_test)\n",
        "from sklearn.metrics import accuracy_score\n",
        "acc=accuracy_score(y_test,y_pred)\n",
        "print(\"Accuracy :{:.2f}%\".format(acc*100))"
      ],
      "metadata": {
        "colab": {
          "base_uri": "https://localhost:8080/"
        },
        "id": "qUkhybVEv-m8",
        "outputId": "cd63ee4c-5ddd-4f3d-afe1-36c3e4358062"
      },
      "execution_count": null,
      "outputs": [
        {
          "output_type": "stream",
          "name": "stdout",
          "text": [
            "Accuracy :0.00%\n"
          ]
        },
        {
          "output_type": "stream",
          "name": "stderr",
          "text": [
            "/usr/local/lib/python3.7/dist-packages/sklearn/base.py:451: UserWarning: X does not have valid feature names, but KMeans was fitted with feature names\n",
            "  \"X does not have valid feature names, but\"\n"
          ]
        }
      ]
    },
    {
      "cell_type": "code",
      "source": [
        "X_train"
      ],
      "metadata": {
        "colab": {
          "base_uri": "https://localhost:8080/"
        },
        "id": "3uGSuanq2NDK",
        "outputId": "8be921b5-236e-429e-9e74-baf113ea4c44"
      },
      "execution_count": null,
      "outputs": [
        {
          "output_type": "execute_result",
          "data": {
            "text/plain": [
              "array([[ 1.94260844, -0.14240809],\n",
              "       [ 3.66401396, -6.37343067],\n",
              "       [ 5.98413973, -7.64901726],\n",
              "       [ 3.23327653,  3.48903454],\n",
              "       [ 2.3912238 ,  1.92766136],\n",
              "       [ 1.2276282 ,  5.07662707],\n",
              "       [ 6.225902  , -6.55777659],\n",
              "       [ 2.95914974,  3.75985228],\n",
              "       [ 6.06083041, -8.4840362 ],\n",
              "       [-0.17495406, -0.29706928],\n",
              "       [ 4.23361234,  1.96206509],\n",
              "       [ 3.47720164,  4.15327682],\n",
              "       [ 3.16160129,  2.50362025],\n",
              "       [ 3.89643817,  3.89237211],\n",
              "       [ 6.07127347, -7.39882125],\n",
              "       [ 2.76068311,  0.12365403],\n",
              "       [ 7.04797959, -5.8409815 ],\n",
              "       [ 6.74053235, -5.38099957],\n",
              "       [ 1.85818944,  4.87549294],\n",
              "       [ 3.09376028, -1.64513816],\n",
              "       [ 1.81961536,  3.09964196],\n",
              "       [ 2.8498797 ,  3.32283363],\n",
              "       [ 6.3221339 , -5.79614184],\n",
              "       [ 2.17065821,  3.48198768],\n",
              "       [ 6.54291666, -6.44972497],\n",
              "       [ 2.46578268, -0.27813574],\n",
              "       [ 1.64385695, -0.31103316],\n",
              "       [ 3.46830607,  3.763588  ],\n",
              "       [ 2.66948603, -0.01760432],\n",
              "       [ 9.81792193, -8.06970792],\n",
              "       [ 2.3279348 ,  2.80856957],\n",
              "       [ 0.40761702, -1.7386506 ],\n",
              "       [ 8.17641733, -6.13040983],\n",
              "       [ 1.59425328,  3.98911587],\n",
              "       [ 7.30317863, -7.72271096],\n",
              "       [ 1.03610617, -1.52186266],\n",
              "       [ 1.60844158, -0.97867041],\n",
              "       [ 1.33397263,  2.12060374],\n",
              "       [ 6.07422216, -7.53877676],\n",
              "       [ 7.14372125, -6.3562642 ],\n",
              "       [ 0.14803105, -1.90604718],\n",
              "       [ 1.46338737, -1.38419001],\n",
              "       [ 2.96272512,  3.43366956],\n",
              "       [ 2.48204361,  5.28788957],\n",
              "       [ 3.60042562,  2.66068699],\n",
              "       [ 6.13119962, -5.83916454],\n",
              "       [ 2.764165  ,  2.2652764 ],\n",
              "       [ 0.59019436, -0.45856652],\n",
              "       [ 0.87708289, -1.92383586],\n",
              "       [ 1.95236853, -1.10367385],\n",
              "       [ 0.9053054 , -0.12112912],\n",
              "       [ 3.13133512,  3.16664383],\n",
              "       [ 4.2261635 ,  2.59571525],\n",
              "       [ 5.57616244, -6.73922497],\n",
              "       [ 3.79795552,  4.9274418 ],\n",
              "       [ 1.33007784, -2.0390514 ],\n",
              "       [ 2.02736427,  3.5670208 ],\n",
              "       [ 7.77894814, -6.51877264],\n",
              "       [ 2.11231131,  4.33510907],\n",
              "       [ 1.83051981, -0.55605876],\n",
              "       [ 8.7461145 , -6.18203935],\n",
              "       [ 1.14710355,  5.3581741 ],\n",
              "       [ 2.99982526,  3.34655668],\n",
              "       [ 1.6056851 , -0.74996293],\n",
              "       [ 1.97854594,  2.72228762],\n",
              "       [ 3.34244739,  4.30530855],\n",
              "       [ 2.09648313, -1.32848208],\n",
              "       [ 6.38654129, -7.53861107],\n",
              "       [ 1.36904763,  0.86600168],\n",
              "       [ 0.61149909,  4.91412546],\n",
              "       [ 0.2461655 ,  0.11490723],\n",
              "       [ 1.35023566, -0.44270036],\n",
              "       [ 1.16053641, -1.47653731],\n",
              "       [ 2.73977813,  2.78071449],\n",
              "       [ 6.96402494, -8.16026077],\n",
              "       [ 6.22544282, -5.48709309],\n",
              "       [ 1.77106359,  4.83160637],\n",
              "       [ 7.17874525, -6.04200485],\n",
              "       [ 0.4031904 , -0.10649576],\n",
              "       [ 6.98135015, -7.56998207],\n",
              "       [ 0.34048312, -0.31209755],\n",
              "       [ 1.43297652, -1.30227428],\n",
              "       [ 2.15104981, -0.68092811],\n",
              "       [ 3.02013727, -1.1703453 ],\n",
              "       [ 2.40894442,  4.8329397 ],\n",
              "       [ 2.69764281, -1.50342655],\n",
              "       [ 3.21314017,  4.68968812],\n",
              "       [ 2.24372395,  4.22663792],\n",
              "       [ 2.55353146,  3.31994205],\n",
              "       [ 4.24515001,  5.32153409],\n",
              "       [ 2.6268526 ,  4.9987975 ],\n",
              "       [ 1.3453091 ,  3.08631938],\n",
              "       [ 2.78880865,  4.08227236],\n",
              "       [ 5.54236597, -8.8814222 ],\n",
              "       [ 4.01082185,  3.97690309],\n",
              "       [ 3.11800277,  2.75810442],\n",
              "       [ 0.59940047,  0.07487333],\n",
              "       [ 2.1861417 , -2.29430357],\n",
              "       [ 1.03504807, -1.86835249],\n",
              "       [ 6.27991333, -6.029599  ],\n",
              "       [ 6.0714914 , -6.98021631],\n",
              "       [ 3.53059149,  3.23184414],\n",
              "       [ 3.07239858,  2.71518054],\n",
              "       [ 8.94010275, -5.95297971],\n",
              "       [ 0.62302428, -0.91848611],\n",
              "       [ 3.20041425, -2.22404855],\n",
              "       [ 3.48361862,  4.16068237],\n",
              "       [ 2.11863775, -2.45270339],\n",
              "       [ 2.84288526,  4.13385791],\n",
              "       [ 2.26112019, -1.47809704],\n",
              "       [ 1.11118234, -1.2510232 ],\n",
              "       [ 3.10087604,  1.14816315],\n",
              "       [ 3.12220573, -2.06649197],\n",
              "       [ 7.23626087, -5.91906287],\n",
              "       [ 1.05134998,  0.14637531],\n",
              "       [ 6.28758421, -5.76642797],\n",
              "       [ 6.06497761, -5.47250756],\n",
              "       [ 7.95260263, -6.73702378],\n",
              "       [ 2.50904067, -2.06110432],\n",
              "       [ 6.98269387, -6.60848194],\n",
              "       [ 2.7300049 ,  3.29572557],\n",
              "       [ 7.88796312, -6.91025305],\n",
              "       [ 2.45695087,  3.50329334],\n",
              "       [ 8.50923317, -6.71410014],\n",
              "       [ 6.39244771, -7.70423619],\n",
              "       [ 7.94425398, -5.25343431],\n",
              "       [ 7.03066028, -4.42898118],\n",
              "       [ 7.30595756, -7.59410547],\n",
              "       [ 0.86024185, -0.74372916],\n",
              "       [ 0.67138936, -1.53288836],\n",
              "       [ 1.62692195, -2.85100489],\n",
              "       [ 2.90673724, -1.1360787 ],\n",
              "       [ 7.30496895, -5.75252218],\n",
              "       [ 6.37606359, -6.38542668],\n",
              "       [ 1.44546121, -2.18636224],\n",
              "       [ 1.66281725, -1.34109253],\n",
              "       [ 2.35645354, -0.67103813],\n",
              "       [ 2.46467537,  3.2189756 ],\n",
              "       [ 3.57040964,  4.96031573],\n",
              "       [ 6.80412125, -6.55468339],\n",
              "       [ 2.86486573,  3.73365117],\n",
              "       [ 7.35318219, -6.94636458],\n",
              "       [ 4.28238758,  5.16779055],\n",
              "       [ 1.52645925, -2.35544782],\n",
              "       [ 0.83178681,  1.45109469],\n",
              "       [ 2.18714665, -1.46910506],\n",
              "       [ 2.33056308, -1.13096496],\n",
              "       [ 2.87185347,  3.85462964],\n",
              "       [ 6.68603335, -7.41145686],\n",
              "       [ 7.70610388, -5.58065507]])"
            ]
          },
          "metadata": {},
          "execution_count": 27
        }
      ]
    },
    {
      "cell_type": "code",
      "source": [
        "#x=data[0]\n",
        "#y=data[1]\n",
        "from sklearn.discriminant_analysis import LinearDiscriminantAnalysis as LDA\n",
        "lda = LDA(n_components=2).fit_transform(X_train,y_train)"
      ],
      "metadata": {
        "id": "WWTTq6kcysYf"
      },
      "execution_count": null,
      "outputs": []
    },
    {
      "cell_type": "code",
      "source": [
        "import pandas as pd\n",
        "Df = pd.DataFrame(data=lda , columns = ['LDA1', 'LDA2'])"
      ],
      "metadata": {
        "id": "A3r0wYiHy642"
      },
      "execution_count": null,
      "outputs": []
    },
    {
      "cell_type": "code",
      "source": [
        "import matplotlib.pyplot as plt\n",
        "x=Df['LDA1']\n",
        "y=Df['LDA2']\n",
        "plt.scatter(x,y)\n",
        "plt.xlabel('LDA1')\n",
        "plt.ylabel('LDA2')\n",
        "plt.title('LDA-Dimensionality Reduction')\n",
        "plt.show() "
      ],
      "metadata": {
        "colab": {
          "base_uri": "https://localhost:8080/",
          "height": 295
        },
        "id": "cUaq4WtNy8aP",
        "outputId": "3c8b045e-b0f4-4851-e142-a101487b1f86"
      },
      "execution_count": null,
      "outputs": [
        {
          "output_type": "display_data",
          "data": {
            "text/plain": [
              "<Figure size 432x288 with 1 Axes>"
            ],
            "image/png": "[encoded data removed]"
          },
          "metadata": {
            "needs_background": "light"
          }
        }
      ]
    },
    {
      "cell_type": "code",
      "source": [
        "from sklearn.cluster import KMeans\n",
        "kmeans = KMeans(n_clusters=4,max_iter=500, random_state=20).fit(Df)\n",
        "pl=kmeans.cluster_centers_\n",
        "pl"
      ],
      "metadata": {
        "colab": {
          "base_uri": "https://localhost:8080/"
        },
        "id": "QafpVrRxzGxn",
        "outputId": "a8d7155f-68f4-4c64-9a46-1283467f0ef1"
      },
      "execution_count": null,
      "outputs": [
        {
          "output_type": "execute_result",
          "data": {
            "text/plain": [
              "array([[-5.58744947,  1.63494033],\n",
              "       [-0.67178647, -2.02229336],\n",
              "       [ 6.75908376,  0.83780465],\n",
              "       [-4.00990857,  0.79036314]])"
            ]
          },
          "metadata": {},
          "execution_count": 31
        }
      ]
    },
    {
      "cell_type": "code",
      "source": [
        "labels=kmeans.labels_\n",
        "labels"
      ],
      "metadata": {
        "colab": {
          "base_uri": "https://localhost:8080/"
        },
        "id": "SGRtWEyAzSgm",
        "outputId": "0c7cd69d-5f4e-4556-8c4b-858f4405c133"
      },
      "execution_count": null,
      "outputs": [
        {
          "output_type": "execute_result",
          "data": {
            "text/plain": [
              "array([1, 2, 2, 3, 3, 0, 2, 0, 2, 1, 3, 0, 3, 0, 2, 1, 2, 2, 0, 1, 3, 3,\n",
              "       2, 3, 2, 1, 1, 0, 1, 2, 3, 1, 2, 0, 2, 1, 1, 3, 2, 2, 1, 1, 3, 0,\n",
              "       3, 2, 3, 1, 1, 1, 1, 3, 3, 2, 0, 1, 3, 2, 0, 1, 2, 0, 3, 1, 3, 0,\n",
              "       1, 2, 1, 0, 1, 1, 1, 3, 2, 2, 0, 2, 1, 2, 1, 1, 1, 1, 0, 1, 0, 0,\n",
              "       3, 0, 0, 3, 0, 2, 0, 3, 1, 1, 1, 2, 2, 3, 3, 2, 1, 1, 0, 1, 0, 1,\n",
              "       1, 3, 1, 2, 1, 2, 2, 2, 1, 2, 3, 2, 3, 2, 2, 2, 2, 2, 1, 1, 1, 1,\n",
              "       2, 2, 1, 1, 1, 3, 0, 2, 0, 2, 0, 1, 3, 1, 1, 0, 2, 2], dtype=int32)"
            ]
          },
          "metadata": {},
          "execution_count": 32
        }
      ]
    },
    {
      "cell_type": "code",
      "source": [
        "plt.scatter(x,y,c=labels,cmap='rainbow')\n",
        "plt.show() "
      ],
      "metadata": {
        "colab": {
          "base_uri": "https://localhost:8080/",
          "height": 265
        },
        "id": "fsMyKXG3zYIJ",
        "outputId": "dd79c997-2c28-4578-a091-fa7725f2c3d5"
      },
      "execution_count": null,
      "outputs": [
        {
          "output_type": "display_data",
          "data": {
            "text/plain": [
              "<Figure size 432x288 with 1 Axes>"
            ],
            "image/png": "[encoded data removed]"
          },
          "metadata": {
            "needs_background": "light"
          }
        }
      ]
    }
  ]
}